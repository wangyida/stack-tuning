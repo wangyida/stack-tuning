{
 "cells": [
  {
   "cell_type": "markdown",
   "metadata": {},
   "source": [
    "# Script Generation\n",
    "This project is developed by ideas of utilizing [Simpsons](https://en.wikipedia.org/wiki/The_Simpsons) TV scripts using RNNs.  You'll be using part of the [Simpsons dataset](https://www.kaggle.com/wcukierski/the-simpsons-by-the-data) of scripts from 27 seasons.\n",
    "## Get the Data\n",
    "In testing phase, you'll be using a subset of the original dataset.  It consists of only the scenes in Moe's Tavern.  This doesn't include other versions of the tavern, like \"Moe's Cavern\", \"Flaming Moe's\", \"Uncle Moe's Family Feed-Bag\", etc.."
   ]
  },
  {
   "cell_type": "code",
   "execution_count": 1,
   "metadata": {
    "collapsed": true
   },
   "outputs": [],
   "source": [
    "\"\"\"\n",
    "DON'T MODIFY ANYTHING IN THIS CELL\n",
    "\"\"\"\n",
    "import helper\n",
    "\n",
    "data_dir = './data/simpsons/moes_tavern_lines.txt'\n",
    "text = helper.load_data(data_dir)\n",
    "# Ignore notice, since we don't use it for analysing the data\n",
    "text = text[81:]"
   ]
  },
  {
   "cell_type": "markdown",
   "metadata": {},
   "source": [
    "## Explore the Data\n",
    "Play around with `view_sentence_range` to view different parts of the data."
   ]
  },
  {
   "cell_type": "code",
   "execution_count": 2,
   "metadata": {},
   "outputs": [
    {
     "name": "stdout",
     "output_type": "stream",
     "text": [
      "Dataset Stats\n",
      "Roughly the number of unique words: 11492\n",
      "Number of scenes: 262\n",
      "Average number of sentences in each scene: 15.2519083969\n",
      "Number of lines: 4258\n",
      "Average number of words in each line: 11.5016439643\n",
      "()\n",
      "The sentences 0 to 10:\n",
      "\n",
      "Moe_Szyslak: (INTO PHONE) Moe's Tavern. Where the elite meet to drink.\n",
      "Bart_Simpson: Eh, yeah, hello, is Mike there? Last name, Rotch.\n",
      "Moe_Szyslak: (INTO PHONE) Hold on, I'll check. (TO BARFLIES) Mike Rotch. Mike Rotch. Hey, has anybody seen Mike Rotch, lately?\n",
      "Moe_Szyslak: (INTO PHONE) Listen you little puke. One of these days I'm gonna catch you, and I'm gonna carve my name on your back with an ice pick.\n",
      "Moe_Szyslak: What's the matter Homer? You're not your normal effervescent self.\n",
      "Homer_Simpson: I got my problems, Moe. Give me another one.\n",
      "Moe_Szyslak: Homer, hey, you should not drink to forget your problems.\n",
      "Barney_Gumble: Yeah, you should only drink to enhance your social skills.\n",
      "\n"
     ]
    }
   ],
   "source": [
    "view_sentence_range = (0, 10)\n",
    "\n",
    "\"\"\"\n",
    "DON'T MODIFY ANYTHING IN THIS CELL\n",
    "\"\"\"\n",
    "import numpy as np\n",
    "\n",
    "print('Dataset Stats')\n",
    "print('Roughly the number of unique words: {}'.format(len({word: None for word in text.split()})))\n",
    "scenes = text.split('\\n\\n')\n",
    "print('Number of scenes: {}'.format(len(scenes)))\n",
    "sentence_count_scene = [scene.count('\\n') for scene in scenes]\n",
    "print('Average number of sentences in each scene: {}'.format(np.average(sentence_count_scene)))\n",
    "\n",
    "sentences = [sentence for scene in scenes for sentence in scene.split('\\n')]\n",
    "print('Number of lines: {}'.format(len(sentences)))\n",
    "word_count_sentence = [len(sentence.split()) for sentence in sentences]\n",
    "print('Average number of words in each line: {}'.format(np.average(word_count_sentence)))\n",
    "\n",
    "print()\n",
    "print('The sentences {} to {}:'.format(*view_sentence_range))\n",
    "print('\\n'.join(text.split('\\n')[view_sentence_range[0]:view_sentence_range[1]]))"
   ]
  },
  {
   "cell_type": "markdown",
   "metadata": {},
   "source": [
    "## Implement Preprocessing Functions\n",
    "The first thing to do to any dataset is preprocessing.  Implement the following preprocessing functions below:\n",
    "- Lookup Table\n",
    "- Tokenize Punctuation\n",
    "\n",
    "### Lookup Table\n",
    "To create a word embedding, you first need to transform the words to ids.  In this function, create two dictionaries:\n",
    "- Dictionary to go from the words to an id, we'll call `vocab_to_int`\n",
    "- Dictionary to go from the id to word, we'll call `int_to_vocab`\n",
    "\n",
    "Return these dictionaries in the following tuple `(vocab_to_int, int_to_vocab)`"
   ]
  },
  {
   "cell_type": "code",
   "execution_count": 3,
   "metadata": {},
   "outputs": [
    {
     "name": "stdout",
     "output_type": "stream",
     "text": [
      "Tests Passed\n"
     ]
    }
   ],
   "source": [
    "import numpy as np\n",
    "import problem_unittests as tests\n",
    "\n",
    "def create_lookup_tables(text):\n",
    "    \"\"\"\n",
    "    Create lookup tables for vocabulary\n",
    "    :param text: The text of tv scripts split into words\n",
    "    :return: A tuple of dicts (vocab_to_int, int_to_vocab)\n",
    "    \"\"\"\n",
    "    # TODO: Implement Function\n",
    "    vocab = set(text)\n",
    "    # it's useful for project A and B using ':'\n",
    "    vocab_to_int = {c: i for i, c in enumerate(vocab)}\n",
    "    int_to_vocab = dict(enumerate(vocab))\n",
    "    return (vocab_to_int, int_to_vocab)\n",
    "\n",
    "\n",
    "\"\"\"\n",
    "DON'T MODIFY ANYTHING IN THIS CELL THAT IS BELOW THIS LINE\n",
    "\"\"\"\n",
    "tests.test_create_lookup_tables(create_lookup_tables)"
   ]
  },
  {
   "cell_type": "markdown",
   "metadata": {},
   "source": [
    "### Tokenize Punctuation\n",
    "We'll be splitting the script into a word array using spaces as delimiters.  However, punctuations like periods and exclamation marks make it hard for the neural network to distinguish between the word \"bye\" and \"bye!\".\n",
    "\n",
    "Implement the function `token_lookup` to return a dict that will be used to tokenize symbols like \"!\" into \"||Exclamation_Mark||\".  Create a dictionary for the following symbols where the symbol is the key and value is the token:\n",
    "- Period ( . )\n",
    "- Comma ( , )\n",
    "- Quotation Mark ( \" )\n",
    "- Semicolon ( ; )\n",
    "- Exclamation mark ( ! )\n",
    "- Question mark ( ? )\n",
    "- Left Parentheses ( ( )\n",
    "- Right Parentheses ( ) )\n",
    "- Dash ( -- )\n",
    "- Return ( \\n )\n",
    "\n",
    "This dictionary will be used to token the symbols and add the delimiter (space) around it.  This separates the symbols as it's own word, making it easier for the neural network to predict on the next word. Make sure you don't use a token that could be confused as a word. Instead of using the token \"dash\", try using something like \"||dash||\"."
   ]
  },
  {
   "cell_type": "code",
   "execution_count": 4,
   "metadata": {},
   "outputs": [
    {
     "name": "stdout",
     "output_type": "stream",
     "text": [
      "Tests Passed\n"
     ]
    }
   ],
   "source": [
    "def token_lookup():\n",
    "    \"\"\"\n",
    "    Generate a dict to turn punctuation into a token.\n",
    "    :return: Tokenize dictionary where the key is the punctuation and the value is the token\n",
    "    \"\"\"\n",
    "    # TODO: Implement Function\n",
    "    lookup_table = {'--': '||Dash||',\n",
    "                    ',': '||Comma||',\n",
    "                    '.': '||Period||',\n",
    "                    '(': '||Left_parentheses||',\n",
    "                    ')': '||Right_parentheses||',\n",
    "                    ';': '||Semicolon||',\n",
    "                    '?': '||Question_mark||',\n",
    "                    '\\n': '||Return||',\n",
    "                    '\"': '||Double_quotation||',\n",
    "                    '!': '||Exclamation||'}\n",
    "    return lookup_table\n",
    "\n",
    "\"\"\"\n",
    "DON'T MODIFY ANYTHING IN THIS CELL THAT IS BELOW THIS LINE\n",
    "\"\"\"\n",
    "tests.test_tokenize(token_lookup)"
   ]
  },
  {
   "cell_type": "markdown",
   "metadata": {},
   "source": [
    "## Preprocess all the data and save it\n",
    "Running the code cell below will preprocess all the data and save it to file."
   ]
  },
  {
   "cell_type": "code",
   "execution_count": 5,
   "metadata": {
    "collapsed": true
   },
   "outputs": [],
   "source": [
    "\"\"\"\n",
    "DON'T MODIFY ANYTHING IN THIS CELL\n",
    "\"\"\"\n",
    "# Preprocess Training, Validation, and Testing Data\n",
    "helper.preprocess_and_save_data(data_dir, token_lookup, create_lookup_tables)"
   ]
  },
  {
   "cell_type": "markdown",
   "metadata": {},
   "source": [
    "# Check Point\n",
    "This is your first checkpoint. If you ever decide to come back to this notebook or have to restart the notebook, you can start from here. The preprocessed data has been saved to disk."
   ]
  },
  {
   "cell_type": "code",
   "execution_count": 6,
   "metadata": {
    "collapsed": true
   },
   "outputs": [],
   "source": [
    "\"\"\"\n",
    "DON'T MODIFY ANYTHING IN THIS CELL\n",
    "\"\"\"\n",
    "import helper\n",
    "import numpy as np\n",
    "import problem_unittests as tests\n",
    "\n",
    "int_text, vocab_to_int, int_to_vocab, token_dict = helper.load_preprocess()"
   ]
  },
  {
   "cell_type": "markdown",
   "metadata": {},
   "source": [
    "## Build the Neural Network\n",
    "You'll build the components necessary to build a RNN by implementing the following functions below:\n",
    "- get_inputs\n",
    "- get_init_cell\n",
    "- get_embed\n",
    "- build_rnn\n",
    "- build_nn\n",
    "- get_batches\n",
    "\n",
    "### Check the Version of TensorFlow and Access to GPU"
   ]
  },
  {
   "cell_type": "code",
   "execution_count": 7,
   "metadata": {},
   "outputs": [
    {
     "name": "stdout",
     "output_type": "stream",
     "text": [
      "TensorFlow Version: 1.0.1\n"
     ]
    },
    {
     "name": "stderr",
     "output_type": "stream",
     "text": [
      "/usr/local/lib/python2.7/site-packages/ipykernel_launcher.py:14: UserWarning: No GPU found. Please use a GPU to train your neural network.\n",
      "  \n"
     ]
    }
   ],
   "source": [
    "\"\"\"\n",
    "DON'T MODIFY ANYTHING IN THIS CELL\n",
    "\"\"\"\n",
    "from distutils.version import LooseVersion\n",
    "import warnings\n",
    "import tensorflow as tf\n",
    "\n",
    "# Check TensorFlow Version\n",
    "assert LooseVersion(tf.__version__) >= LooseVersion('1.0'), 'Please use TensorFlow version 1.0 or newer'\n",
    "print('TensorFlow Version: {}'.format(tf.__version__))\n",
    "\n",
    "# Check for a GPU\n",
    "if not tf.test.gpu_device_name():\n",
    "    warnings.warn('No GPU found. Please use a GPU to train your neural network.')\n",
    "else:\n",
    "    print('Default GPU Device: {}'.format(tf.test.gpu_device_name()))"
   ]
  },
  {
   "cell_type": "markdown",
   "metadata": {},
   "source": [
    "### Input\n",
    "Implement the `get_inputs()` function to create TF Placeholders for the Neural Network.  It should create the following placeholders:\n",
    "- Input text placeholder named \"input\" using the [TF Placeholder](https://www.tensorflow.org/api_docs/python/tf/placeholder) `name` parameter.\n",
    "- Targets placeholder\n",
    "- Learning Rate placeholder\n",
    "\n",
    "Return the placeholders in the following the tuple `(Input, Targets, LearingRate)`"
   ]
  },
  {
   "cell_type": "code",
   "execution_count": 8,
   "metadata": {},
   "outputs": [
    {
     "name": "stdout",
     "output_type": "stream",
     "text": [
      "Tests Passed\n"
     ]
    }
   ],
   "source": [
    "def get_inputs():\n",
    "    \"\"\"\n",
    "    Create TF Placeholders for input, targets, and learning rate.\n",
    "    :return: Tuple (input, targets, learning rate)\n",
    "    \"\"\"\n",
    "    # TODO: Implement Function\n",
    "    inputs = tf.placeholder(tf.int32, [None, None], name='input')\n",
    "    targets = tf.placeholder(tf.int32, [None, None], name='targets')\n",
    "    learning_rate = tf.placeholder(tf.float32, name='learning_rate')\n",
    "    return (inputs, targets, learning_rate)\n",
    "\n",
    "\n",
    "\"\"\"\n",
    "DON'T MODIFY ANYTHING IN THIS CELL THAT IS BELOW THIS LINE\n",
    "\"\"\"\n",
    "tests.test_get_inputs(get_inputs)"
   ]
  },
  {
   "cell_type": "markdown",
   "metadata": {},
   "source": [
    "### Build RNN Cell and Initialize\n",
    "Stack one or more [`BasicLSTMCells`](https://www.tensorflow.org/api_docs/python/tf/contrib/rnn/BasicLSTMCell) in a [`MultiRNNCell`](https://www.tensorflow.org/api_docs/python/tf/contrib/rnn/MultiRNNCell).\n",
    "- The Rnn size should be set using `rnn_size`\n",
    "- Initalize Cell State using the MultiRNNCell's [`zero_state()`](https://www.tensorflow.org/api_docs/python/tf/contrib/rnn/MultiRNNCell#zero_state) function\n",
    "    - Apply the name \"initial_state\" to the initial state using [`tf.identity()`](https://www.tensorflow.org/api_docs/python/tf/identity)\n",
    "\n",
    "Return the cell and initial state in the following tuple `(Cell, InitialState)`"
   ]
  },
  {
   "cell_type": "code",
   "execution_count": 9,
   "metadata": {},
   "outputs": [
    {
     "name": "stdout",
     "output_type": "stream",
     "text": [
      "Tests Passed\n"
     ]
    }
   ],
   "source": [
    "def get_init_cell(batch_size, rnn_size):\n",
    "    \"\"\"\n",
    "    Create an RNN Cell and initialize it.\n",
    "    :param batch_size: Size of batches\n",
    "    :param rnn_size: Size of RNNs\n",
    "    :return: Tuple (cell, initialize state)\n",
    "    \"\"\"\n",
    "    # TODO: Implement Function\n",
    "    lstm = tf.contrib.rnn.BasicLSTMCell(rnn_size)\n",
    "    # Add a dropout\n",
    "    drop = tf.contrib.rnn.DropoutWrapper(lstm, output_keep_prob=0.7)\n",
    "    # Choose a Three micro structure of LSTM cells\n",
    "    cell = tf.contrib.rnn.MultiRNNCell([drop, drop, drop])\n",
    "    # How to define the batch size is the key point to initialize the RNN cell\n",
    "    initial_state = cell.zero_state(batch_size, tf.float32)\n",
    "    # Give it a name\n",
    "    initial_state = tf.identity(initial_state, name= \"initial_state\")\n",
    "    return (cell, initial_state)\n",
    "\n",
    "\n",
    "\"\"\"\n",
    "DON'T MODIFY ANYTHING IN THIS CELL THAT IS BELOW THIS LINE\n",
    "\"\"\"\n",
    "tests.test_get_init_cell(get_init_cell)"
   ]
  },
  {
   "cell_type": "markdown",
   "metadata": {},
   "source": [
    "### Word Embedding\n",
    "Apply embedding to `input_data` using TensorFlow.  Return the embedded sequence."
   ]
  },
  {
   "cell_type": "code",
   "execution_count": 10,
   "metadata": {},
   "outputs": [
    {
     "name": "stdout",
     "output_type": "stream",
     "text": [
      "Tests Passed\n"
     ]
    }
   ],
   "source": [
    "def get_embed(input_data, vocab_size, embed_dim):\n",
    "    \"\"\"\n",
    "    Create embedding for <input_data>.\n",
    "    :param input_data: TF placeholder for text input.\n",
    "    :param vocab_size: Number of words in vocabulary.\n",
    "    :param embed_dim: Number of embedding dimensions\n",
    "    :return: Embedded input.\n",
    "    \"\"\"\n",
    "    # TODO: Implement Function\n",
    "    embedding = tf.contrib.layers.embed_sequence(input_data, \n",
    "                                                 vocab_size=vocab_size, \n",
    "                                                 embed_dim=embed_dim)\n",
    "    return embedding\n",
    "\n",
    "\n",
    "\"\"\"\n",
    "DON'T MODIFY ANYTHING IN THIS CELL THAT IS BELOW THIS LINE\n",
    "\"\"\"\n",
    "tests.test_get_embed(get_embed)"
   ]
  },
  {
   "cell_type": "markdown",
   "metadata": {},
   "source": [
    "### Build RNN\n",
    "You created a RNN Cell in the `get_init_cell()` function.  Time to use the cell to create a RNN.\n",
    "- Build the RNN using the [`tf.nn.dynamic_rnn()`](https://www.tensorflow.org/api_docs/python/tf/nn/dynamic_rnn)\n",
    " - Apply the name \"final_state\" to the final state using [`tf.identity()`](https://www.tensorflow.org/api_docs/python/tf/identity)\n",
    "\n",
    "Return the outputs and final_state state in the following tuple `(Outputs, FinalState)` "
   ]
  },
  {
   "cell_type": "code",
   "execution_count": 11,
   "metadata": {},
   "outputs": [
    {
     "name": "stdout",
     "output_type": "stream",
     "text": [
      "Tests Passed\n"
     ]
    }
   ],
   "source": [
    "def build_rnn(cell, inputs):\n",
    "    \"\"\"\n",
    "    Create a RNN using a RNN Cell\n",
    "    :param cell: RNN Cell\n",
    "    :param inputs: Input text data\n",
    "    :return: Tuple (Outputs, Final State)\n",
    "    \"\"\"\n",
    "    # TODO: Implement Function\n",
    "    outputs, final_state = tf.nn.dynamic_rnn(cell, inputs, dtype=tf.float32)\n",
    "    final_state = tf.identity(final_state, name=\"final_state\")\n",
    "    return (outputs, final_state)\n",
    "\n",
    "\n",
    "\"\"\"\n",
    "DON'T MODIFY ANYTHING IN THIS CELL THAT IS BELOW THIS LINE\n",
    "\"\"\"\n",
    "tests.test_build_rnn(build_rnn)"
   ]
  },
  {
   "cell_type": "markdown",
   "metadata": {},
   "source": [
    "### Build the Neural Network\n",
    "Apply the functions you implemented above to:\n",
    "- Apply embedding to `input_data` using your `get_embed(input_data, vocab_size, embed_dim)` function.\n",
    "- Build RNN using `cell` and your `build_rnn(cell, inputs)` function.\n",
    "- Apply a fully connected layer with a linear activation and `vocab_size` as the number of outputs.\n",
    "\n",
    "Return the logits and final state in the following tuple (Logits, FinalState) "
   ]
  },
  {
   "cell_type": "code",
   "execution_count": 12,
   "metadata": {},
   "outputs": [
    {
     "name": "stdout",
     "output_type": "stream",
     "text": [
      "Tests Passed\n"
     ]
    }
   ],
   "source": [
    "def build_nn(cell, rnn_size, input_data, vocab_size):\n",
    "    \"\"\"\n",
    "    Build part of the neural network\n",
    "    :param cell: RNN cell\n",
    "    :param rnn_size: Size of rnns\n",
    "    :param input_data: Input data\n",
    "    :param vocab_size: Vocabulary size\n",
    "    :return: Tuple (Logits, FinalState)\n",
    "    \"\"\"\n",
    "    # TODO: Implement Function\n",
    "    # Is embedding size us\n",
    "    inputs = get_embed(input_data, vocab_size, rnn_size)\n",
    "    outputs, final_state = build_rnn(cell, inputs)\n",
    "    logits = tf.contrib.layers.fully_connected(outputs, vocab_size, activation_fn=None)\n",
    "    return (logits, final_state)\n",
    "\n",
    "\n",
    "\"\"\"\n",
    "DON'T MODIFY ANYTHING IN THIS CELL THAT IS BELOW THIS LINE\n",
    "\"\"\"\n",
    "tests.test_build_nn(build_nn)"
   ]
  },
  {
   "cell_type": "markdown",
   "metadata": {},
   "source": [
    "### Batches\n",
    "Implement `get_batches` to create batches of input and targets using `int_text`.  The batches should be a Numpy array with the shape `(number of batches, 2, batch size, sequence length)`. Each batch contains two elements:\n",
    "- The first element is a single batch of **input** with the shape `[batch size, sequence length]`\n",
    "- The second element is a single batch of **targets** with the shape `[batch size, sequence length]`\n",
    "\n",
    "If you can't fill the last batch with enough data, drop the last batch.\n",
    "\n",
    "For exmple, `get_batches([1, 2, 3, 4, 5, 6, 7, 8, 9, 10, 11, 12, 13, 14, 15], 2, 3)` would return a Numpy array of the following:\n",
    "```\n",
    "[\n",
    "  # First Batch\n",
    "  [\n",
    "    # Batch of Input\n",
    "    [[ 1  2  3], [ 7  8  9]],\n",
    "    # Batch of targets\n",
    "    [[ 2  3  4], [ 8  9 10]]\n",
    "  ],\n",
    " \n",
    "  # Second Batch\n",
    "  [\n",
    "    # Batch of Input\n",
    "    [[ 4  5  6], [10 11 12]],\n",
    "    # Batch of targets\n",
    "    [[ 5  6  7], [11 12 13]]\n",
    "  ]\n",
    "]\n",
    "```"
   ]
  },
  {
   "cell_type": "code",
   "execution_count": 6,
   "metadata": {},
   "outputs": [
    {
     "name": "stdout",
     "output_type": "stream",
     "text": [
      "Tests Passed\n"
     ]
    }
   ],
   "source": [
    "def get_batches(int_text, batch_size, seq_length):\n",
    "    \"\"\"\n",
    "    Return batches of input and target\n",
    "    :param int_text: Text with the words replaced by their ids\n",
    "    :param batch_size: The size of batch\n",
    "    :param seq_length: The length of sequence\n",
    "    :return: Batches as a Numpy array\n",
    "    \"\"\"\n",
    "    # TODO: Implement Function\n",
    "    intrinsic_method = False\n",
    "    if intrinsic_method:\n",
    "        int_text = int_text[16:]\n",
    "\n",
    "        # length_batch: length of a single batch in regard to charactors\n",
    "        length_batch = batch_size * seq_length\n",
    "\n",
    "        # n_batches: number of batches fed into input\n",
    "        # shift_char: a shifting of 1 means that we want to predict characters one by one\n",
    "        shift_char = 1\n",
    "        n_batches = (len(int_text)-shift_char)//length_batch \n",
    "\n",
    "        # Here we define all those text again to suit for length of batches\n",
    "        # by turning then into several two demensional input blocks\n",
    "        int_text = int_text[:n_batches * length_batch + shift_char]\n",
    "\n",
    "        int_text_sequences = []\n",
    "        int_text_targets = []\n",
    "        for i in range(0, n_batches * batch_size):\n",
    "            int_text_sequences.append(int_text[i*seq_length:i*seq_length+seq_length])\n",
    "        #int_text_sequences = [int_text[i*seq_length:i*seq_length+seq_length] for i in range(0, n_batches * batch_size)]\n",
    "\n",
    "        int_text = int_text[shift_char:]\n",
    "        for i in range(0, n_batches * batch_size):\n",
    "            int_text_targets.append(int_text[i*seq_length:i*seq_length+seq_length])\n",
    "        #int_text_targets = [int_text[i*seq_length:i*seq_length+seq_length] for i in range(0, n_batches * batch_size)]\n",
    "        output = []\n",
    "\n",
    "        # Here we change the two dimensional input to three demensional input\n",
    "        for batch in range(n_batches):\n",
    "            inputs = []\n",
    "            targets = []\n",
    "            for size in range(batch_size):\n",
    "                inputs.append(int_text_sequences[size * n_batches + batch])\n",
    "                targets.append(int_text_targets[size * n_batches + batch])\n",
    "            output.append([inputs, targets])\n",
    "\n",
    "        # Return a numpy array result\n",
    "        return np.array(output)\n",
    "    else:\n",
    "        n_batches = int(len(int_text) / (batch_size * seq_length))\n",
    "\n",
    "        # Drop the last few characters to make only full batches\n",
    "        xdata = np.array(int_text[: n_batches * batch_size * seq_length])\n",
    "        ydata = np.array(int_text[1: n_batches * batch_size * seq_length + 1])\n",
    "\n",
    "        x_batches = np.split(xdata.reshape(batch_size, -1), n_batches, 1)\n",
    "        y_batches = np.split(ydata.reshape(batch_size, -1), n_batches, 1)\n",
    "\n",
    "        return np.array(list(zip(x_batches, y_batches)))\n",
    "\n",
    "\n",
    "\"\"\"\n",
    "DON'T MODIFY ANYTHING IN THIS CELL THAT IS BELOW THIS LINE\n",
    "\"\"\"\n",
    "tests.test_get_batches(get_batches)"
   ]
  },
  {
   "cell_type": "markdown",
   "metadata": {},
   "source": [
    "## Neural Network Training\n",
    "### Hyperparameters\n",
    "Tune the following parameters:\n",
    "\n",
    "- Set `num_epochs` to the number of epochs.\n",
    "- Set `batch_size` to the batch size.\n",
    "- Set `rnn_size` to the size of the RNNs.\n",
    "- Set `seq_length` to the length of sequence.\n",
    "- Set `learning_rate` to the learning rate.\n",
    "- Set `show_every_n_batches` to the number of batches the neural network should print progress."
   ]
  },
  {
   "cell_type": "code",
   "execution_count": 14,
   "metadata": {
    "collapsed": true
   },
   "outputs": [],
   "source": [
    "# Number of Epochs\n",
    "num_epochs = 300\n",
    "# Batch Size\n",
    "batch_size = 100\n",
    "# RNN Size\n",
    "rnn_size = 256\n",
    "# Sequence Length\n",
    "seq_length = 20\n",
    "# Learning Rate\n",
    "learning_rate = 0.01\n",
    "# Show stats for every n number of batches\n",
    "show_every_n_batches = get_batches(int_text, batch_size, seq_length).shape[0]\n",
    "\n",
    "\"\"\"\n",
    "DON'T MODIFY ANYTHING IN THIS CELL THAT IS BELOW THIS LINE\n",
    "\"\"\"\n",
    "save_dir = './save'"
   ]
  },
  {
   "cell_type": "markdown",
   "metadata": {},
   "source": [
    "### Build the Graph\n",
    "Build the graph using the neural network you implemented."
   ]
  },
  {
   "cell_type": "code",
   "execution_count": 15,
   "metadata": {
    "collapsed": true
   },
   "outputs": [],
   "source": [
    "\"\"\"\n",
    "DON'T MODIFY ANYTHING IN THIS CELL\n",
    "\"\"\"\n",
    "from tensorflow.contrib import seq2seq\n",
    "\n",
    "train_graph = tf.Graph()\n",
    "with train_graph.as_default():\n",
    "    vocab_size = len(int_to_vocab)\n",
    "    input_text, targets, lr = get_inputs()\n",
    "    input_data_shape = tf.shape(input_text)\n",
    "    cell, initial_state = get_init_cell(input_data_shape[0], rnn_size)\n",
    "    logits, final_state = build_nn(cell, rnn_size, input_text, vocab_size)\n",
    "\n",
    "    # Probabilities for generating words\n",
    "    probs = tf.nn.softmax(logits, name='probs')\n",
    "\n",
    "    # Loss function\n",
    "    cost = seq2seq.sequence_loss(\n",
    "        logits,\n",
    "        targets,\n",
    "        tf.ones([input_data_shape[0], input_data_shape[1]]))\n",
    "\n",
    "    # Optimizer\n",
    "    optimizer = tf.train.AdamOptimizer(lr)\n",
    "\n",
    "    # Gradient Clipping\n",
    "    gradients = optimizer.compute_gradients(cost)\n",
    "    capped_gradients = [(tf.clip_by_value(grad, -1., 1.), var) for grad, var in gradients]\n",
    "    train_op = optimizer.apply_gradients(capped_gradients)"
   ]
  },
  {
   "cell_type": "markdown",
   "metadata": {},
   "source": [
    "## Train\n",
    "Train the neural network on the preprocessed data.  If you have a hard time getting a good loss, check the [forms](https://discussions.udacity.com/) to see if anyone is having the same problem."
   ]
  },
  {
   "cell_type": "code",
   "execution_count": 16,
   "metadata": {},
   "outputs": [
    {
     "name": "stdout",
     "output_type": "stream",
     "text": [
      "Epoch   0 Batch    0/17   train_loss = 8.822\n",
      "Epoch   1 Batch    0/17   train_loss = 6.619\n",
      "Epoch   2 Batch    0/17   train_loss = 6.202\n",
      "Epoch   3 Batch    0/17   train_loss = 6.117\n",
      "Epoch   4 Batch    0/17   train_loss = 6.112\n",
      "Epoch   5 Batch    0/17   train_loss = 6.092\n",
      "Epoch   6 Batch    0/17   train_loss = 6.089\n",
      "Epoch   7 Batch    0/17   train_loss = 6.085\n",
      "Epoch   8 Batch    0/17   train_loss = 6.098\n",
      "Epoch   9 Batch    0/17   train_loss = 6.079\n",
      "Epoch  10 Batch    0/17   train_loss = 6.073\n",
      "Epoch  11 Batch    0/17   train_loss = 6.074\n",
      "Epoch  12 Batch    0/17   train_loss = 6.071\n",
      "Epoch  13 Batch    0/17   train_loss = 6.074\n",
      "Epoch  14 Batch    0/17   train_loss = 6.075\n",
      "Epoch  15 Batch    0/17   train_loss = 6.075\n",
      "Epoch  16 Batch    0/17   train_loss = 6.070\n",
      "Epoch  17 Batch    0/17   train_loss = 6.076\n",
      "Epoch  18 Batch    0/17   train_loss = 6.065\n",
      "Epoch  19 Batch    0/17   train_loss = 6.063\n",
      "Epoch  20 Batch    0/17   train_loss = 6.058\n",
      "Epoch  21 Batch    0/17   train_loss = 6.057\n",
      "Epoch  22 Batch    0/17   train_loss = 6.048\n",
      "Epoch  23 Batch    0/17   train_loss = 6.053\n",
      "Epoch  24 Batch    0/17   train_loss = 6.051\n",
      "Epoch  25 Batch    0/17   train_loss = 6.060\n",
      "Epoch  26 Batch    0/17   train_loss = 6.012\n",
      "Epoch  27 Batch    0/17   train_loss = 5.901\n",
      "Epoch  28 Batch    0/17   train_loss = 5.805\n",
      "Epoch  29 Batch    0/17   train_loss = 5.759\n",
      "Epoch  30 Batch    0/17   train_loss = 5.719\n",
      "Epoch  31 Batch    0/17   train_loss = 5.637\n",
      "Epoch  32 Batch    0/17   train_loss = 5.623\n",
      "Epoch  33 Batch    0/17   train_loss = 5.562\n",
      "Epoch  34 Batch    0/17   train_loss = 5.521\n",
      "Epoch  35 Batch    0/17   train_loss = 5.481\n",
      "Epoch  36 Batch    0/17   train_loss = 5.410\n",
      "Epoch  37 Batch    0/17   train_loss = 5.263\n",
      "Epoch  38 Batch    0/17   train_loss = 5.142\n",
      "Epoch  39 Batch    0/17   train_loss = 4.976\n",
      "Epoch  40 Batch    0/17   train_loss = 4.867\n",
      "Epoch  41 Batch    0/17   train_loss = 4.754\n",
      "Epoch  42 Batch    0/17   train_loss = 4.653\n",
      "Epoch  43 Batch    0/17   train_loss = 4.546\n",
      "Epoch  44 Batch    0/17   train_loss = 4.447\n",
      "Epoch  45 Batch    0/17   train_loss = 4.358\n",
      "Epoch  46 Batch    0/17   train_loss = 4.250\n",
      "Epoch  47 Batch    0/17   train_loss = 4.182\n",
      "Epoch  48 Batch    0/17   train_loss = 4.090\n",
      "Epoch  49 Batch    0/17   train_loss = 3.985\n",
      "Epoch  50 Batch    0/17   train_loss = 3.959\n",
      "Epoch  51 Batch    0/17   train_loss = 3.901\n",
      "Epoch  52 Batch    0/17   train_loss = 3.817\n",
      "Epoch  53 Batch    0/17   train_loss = 3.752\n",
      "Epoch  54 Batch    0/17   train_loss = 3.695\n",
      "Epoch  55 Batch    0/17   train_loss = 3.617\n",
      "Epoch  56 Batch    0/17   train_loss = 3.587\n",
      "Epoch  57 Batch    0/17   train_loss = 3.490\n",
      "Epoch  58 Batch    0/17   train_loss = 3.412\n",
      "Epoch  59 Batch    0/17   train_loss = 3.354\n",
      "Epoch  60 Batch    0/17   train_loss = 3.293\n",
      "Epoch  61 Batch    0/17   train_loss = 3.238\n",
      "Epoch  62 Batch    0/17   train_loss = 3.171\n",
      "Epoch  63 Batch    0/17   train_loss = 3.098\n",
      "Epoch  64 Batch    0/17   train_loss = 3.050\n",
      "Epoch  65 Batch    0/17   train_loss = 2.992\n",
      "Epoch  66 Batch    0/17   train_loss = 2.919\n",
      "Epoch  67 Batch    0/17   train_loss = 2.838\n",
      "Epoch  68 Batch    0/17   train_loss = 2.841\n",
      "Epoch  69 Batch    0/17   train_loss = 2.737\n",
      "Epoch  70 Batch    0/17   train_loss = 2.684\n",
      "Epoch  71 Batch    0/17   train_loss = 2.637\n",
      "Epoch  72 Batch    0/17   train_loss = 2.598\n",
      "Epoch  73 Batch    0/17   train_loss = 2.583\n",
      "Epoch  74 Batch    0/17   train_loss = 2.551\n",
      "Epoch  75 Batch    0/17   train_loss = 2.491\n",
      "Epoch  76 Batch    0/17   train_loss = 2.419\n",
      "Epoch  77 Batch    0/17   train_loss = 2.418\n",
      "Epoch  78 Batch    0/17   train_loss = 2.377\n",
      "Epoch  79 Batch    0/17   train_loss = 2.377\n",
      "Epoch  80 Batch    0/17   train_loss = 2.411\n",
      "Epoch  81 Batch    0/17   train_loss = 2.419\n",
      "Epoch  82 Batch    0/17   train_loss = 2.316\n",
      "Epoch  83 Batch    0/17   train_loss = 2.343\n",
      "Epoch  84 Batch    0/17   train_loss = 2.345\n",
      "Epoch  85 Batch    0/17   train_loss = 2.195\n",
      "Epoch  86 Batch    0/17   train_loss = 2.065\n",
      "Epoch  87 Batch    0/17   train_loss = 1.994\n",
      "Epoch  88 Batch    0/17   train_loss = 1.935\n",
      "Epoch  89 Batch    0/17   train_loss = 1.890\n",
      "Epoch  90 Batch    0/17   train_loss = 1.882\n",
      "Epoch  91 Batch    0/17   train_loss = 1.896\n",
      "Epoch  92 Batch    0/17   train_loss = 1.891\n",
      "Epoch  93 Batch    0/17   train_loss = 1.868\n",
      "Epoch  94 Batch    0/17   train_loss = 1.789\n",
      "Epoch  95 Batch    0/17   train_loss = 1.752\n",
      "Epoch  96 Batch    0/17   train_loss = 1.718\n",
      "Epoch  97 Batch    0/17   train_loss = 1.688\n",
      "Epoch  98 Batch    0/17   train_loss = 1.660\n",
      "Epoch  99 Batch    0/17   train_loss = 1.616\n",
      "Epoch 100 Batch    0/17   train_loss = 1.580\n",
      "Epoch 101 Batch    0/17   train_loss = 1.531\n",
      "Epoch 102 Batch    0/17   train_loss = 1.530\n",
      "Epoch 103 Batch    0/17   train_loss = 1.493\n",
      "Epoch 104 Batch    0/17   train_loss = 1.450\n",
      "Epoch 105 Batch    0/17   train_loss = 1.415\n",
      "Epoch 106 Batch    0/17   train_loss = 1.373\n",
      "Epoch 107 Batch    0/17   train_loss = 1.335\n",
      "Epoch 108 Batch    0/17   train_loss = 1.322\n",
      "Epoch 109 Batch    0/17   train_loss = 1.303\n",
      "Epoch 110 Batch    0/17   train_loss = 1.302\n",
      "Epoch 111 Batch    0/17   train_loss = 1.274\n",
      "Epoch 112 Batch    0/17   train_loss = 1.250\n",
      "Epoch 113 Batch    0/17   train_loss = 1.239\n",
      "Epoch 114 Batch    0/17   train_loss = 1.245\n",
      "Epoch 115 Batch    0/17   train_loss = 1.233\n",
      "Epoch 116 Batch    0/17   train_loss = 1.199\n",
      "Epoch 117 Batch    0/17   train_loss = 1.184\n",
      "Epoch 118 Batch    0/17   train_loss = 1.162\n",
      "Epoch 119 Batch    0/17   train_loss = 1.143\n",
      "Epoch 120 Batch    0/17   train_loss = 1.129\n",
      "Epoch 121 Batch    0/17   train_loss = 1.130\n",
      "Epoch 122 Batch    0/17   train_loss = 1.104\n",
      "Epoch 123 Batch    0/17   train_loss = 1.093\n",
      "Epoch 124 Batch    0/17   train_loss = 1.068\n",
      "Epoch 125 Batch    0/17   train_loss = 1.033\n",
      "Epoch 126 Batch    0/17   train_loss = 1.023\n",
      "Epoch 127 Batch    0/17   train_loss = 1.025\n",
      "Epoch 128 Batch    0/17   train_loss = 1.014\n",
      "Epoch 129 Batch    0/17   train_loss = 1.005\n",
      "Epoch 130 Batch    0/17   train_loss = 1.009\n",
      "Epoch 131 Batch    0/17   train_loss = 1.013\n",
      "Epoch 132 Batch    0/17   train_loss = 1.004\n",
      "Epoch 133 Batch    0/17   train_loss = 1.025\n",
      "Epoch 134 Batch    0/17   train_loss = 1.027\n",
      "Epoch 135 Batch    0/17   train_loss = 1.009\n",
      "Epoch 136 Batch    0/17   train_loss = 0.980\n",
      "Epoch 137 Batch    0/17   train_loss = 0.975\n",
      "Epoch 138 Batch    0/17   train_loss = 1.008\n",
      "Epoch 139 Batch    0/17   train_loss = 1.038\n",
      "Epoch 140 Batch    0/17   train_loss = 1.115\n",
      "Epoch 141 Batch    0/17   train_loss = 1.145\n",
      "Epoch 142 Batch    0/17   train_loss = 1.181\n",
      "Epoch 143 Batch    0/17   train_loss = 1.137\n",
      "Epoch 144 Batch    0/17   train_loss = 1.074\n",
      "Epoch 145 Batch    0/17   train_loss = 1.028\n",
      "Epoch 146 Batch    0/17   train_loss = 1.012\n",
      "Epoch 147 Batch    0/17   train_loss = 0.951\n",
      "Epoch 148 Batch    0/17   train_loss = 0.929\n",
      "Epoch 149 Batch    0/17   train_loss = 0.921\n",
      "Epoch 150 Batch    0/17   train_loss = 0.866\n",
      "Epoch 151 Batch    0/17   train_loss = 0.832\n",
      "Epoch 152 Batch    0/17   train_loss = 0.788\n",
      "Epoch 153 Batch    0/17   train_loss = 0.751\n",
      "Epoch 154 Batch    0/17   train_loss = 0.718\n",
      "Epoch 155 Batch    0/17   train_loss = 0.667\n",
      "Epoch 156 Batch    0/17   train_loss = 0.667\n",
      "Epoch 157 Batch    0/17   train_loss = 0.634\n",
      "Epoch 158 Batch    0/17   train_loss = 0.620\n",
      "Epoch 159 Batch    0/17   train_loss = 0.589\n",
      "Epoch 160 Batch    0/17   train_loss = 0.568\n",
      "Epoch 161 Batch    0/17   train_loss = 0.562\n",
      "Epoch 162 Batch    0/17   train_loss = 0.553\n",
      "Epoch 163 Batch    0/17   train_loss = 0.558\n",
      "Epoch 164 Batch    0/17   train_loss = 0.576\n",
      "Epoch 165 Batch    0/17   train_loss = 0.577\n",
      "Epoch 166 Batch    0/17   train_loss = 0.559\n",
      "Epoch 167 Batch    0/17   train_loss = 0.551\n",
      "Epoch 168 Batch    0/17   train_loss = 0.543\n",
      "Epoch 169 Batch    0/17   train_loss = 0.522\n",
      "Epoch 170 Batch    0/17   train_loss = 0.502\n",
      "Epoch 171 Batch    0/17   train_loss = 0.503\n",
      "Epoch 172 Batch    0/17   train_loss = 0.474\n",
      "Epoch 173 Batch    0/17   train_loss = 0.452\n",
      "Epoch 174 Batch    0/17   train_loss = 0.437\n",
      "Epoch 175 Batch    0/17   train_loss = 0.425\n",
      "Epoch 176 Batch    0/17   train_loss = 0.409\n",
      "Epoch 177 Batch    0/17   train_loss = 0.386\n",
      "Epoch 178 Batch    0/17   train_loss = 0.368\n",
      "Epoch 179 Batch    0/17   train_loss = 0.370\n",
      "Epoch 180 Batch    0/17   train_loss = 0.357\n",
      "Epoch 181 Batch    0/17   train_loss = 0.338\n",
      "Epoch 182 Batch    0/17   train_loss = 0.339\n"
     ]
    },
    {
     "name": "stdout",
     "output_type": "stream",
     "text": [
      "Epoch 183 Batch    0/17   train_loss = 0.336\n",
      "Epoch 184 Batch    0/17   train_loss = 0.333\n",
      "Epoch 185 Batch    0/17   train_loss = 0.318\n",
      "Epoch 186 Batch    0/17   train_loss = 0.317\n",
      "Epoch 187 Batch    0/17   train_loss = 0.315\n",
      "Epoch 188 Batch    0/17   train_loss = 0.301\n",
      "Epoch 189 Batch    0/17   train_loss = 0.300\n",
      "Epoch 190 Batch    0/17   train_loss = 0.305\n",
      "Epoch 191 Batch    0/17   train_loss = 0.304\n",
      "Epoch 192 Batch    0/17   train_loss = 0.298\n",
      "Epoch 193 Batch    0/17   train_loss = 0.291\n",
      "Epoch 194 Batch    0/17   train_loss = 0.287\n",
      "Epoch 195 Batch    0/17   train_loss = 0.272\n",
      "Epoch 196 Batch    0/17   train_loss = 0.255\n",
      "Epoch 197 Batch    0/17   train_loss = 0.240\n",
      "Epoch 198 Batch    0/17   train_loss = 0.241\n",
      "Epoch 199 Batch    0/17   train_loss = 0.229\n",
      "Epoch 200 Batch    0/17   train_loss = 0.218\n",
      "Epoch 201 Batch    0/17   train_loss = 0.197\n",
      "Epoch 202 Batch    0/17   train_loss = 0.188\n",
      "Epoch 203 Batch    0/17   train_loss = 0.187\n",
      "Epoch 204 Batch    0/17   train_loss = 0.181\n",
      "Epoch 205 Batch    0/17   train_loss = 0.172\n",
      "Epoch 206 Batch    0/17   train_loss = 0.169\n",
      "Epoch 207 Batch    0/17   train_loss = 0.157\n",
      "Epoch 208 Batch    0/17   train_loss = 0.149\n",
      "Epoch 209 Batch    0/17   train_loss = 0.153\n",
      "Epoch 210 Batch    0/17   train_loss = 0.152\n",
      "Epoch 211 Batch    0/17   train_loss = 0.147\n",
      "Epoch 212 Batch    0/17   train_loss = 0.143\n",
      "Epoch 213 Batch    0/17   train_loss = 0.143\n",
      "Epoch 214 Batch    0/17   train_loss = 0.148\n",
      "Epoch 215 Batch    0/17   train_loss = 0.151\n",
      "Epoch 216 Batch    0/17   train_loss = 0.143\n",
      "Epoch 217 Batch    0/17   train_loss = 0.131\n",
      "Epoch 218 Batch    0/17   train_loss = 0.132\n",
      "Epoch 219 Batch    0/17   train_loss = 0.135\n",
      "Epoch 220 Batch    0/17   train_loss = 0.130\n",
      "Epoch 221 Batch    0/17   train_loss = 0.128\n",
      "Epoch 222 Batch    0/17   train_loss = 0.130\n",
      "Epoch 223 Batch    0/17   train_loss = 0.130\n",
      "Epoch 224 Batch    0/17   train_loss = 0.122\n",
      "Epoch 225 Batch    0/17   train_loss = 0.116\n",
      "Epoch 226 Batch    0/17   train_loss = 0.113\n",
      "Epoch 227 Batch    0/17   train_loss = 0.114\n",
      "Epoch 228 Batch    0/17   train_loss = 0.107\n",
      "Epoch 229 Batch    0/17   train_loss = 0.102\n",
      "Epoch 230 Batch    0/17   train_loss = 0.098\n",
      "Epoch 231 Batch    0/17   train_loss = 0.095\n",
      "Epoch 232 Batch    0/17   train_loss = 0.092\n",
      "Epoch 233 Batch    0/17   train_loss = 0.091\n",
      "Epoch 234 Batch    0/17   train_loss = 0.089\n",
      "Epoch 235 Batch    0/17   train_loss = 0.088\n",
      "Epoch 236 Batch    0/17   train_loss = 0.087\n",
      "Epoch 237 Batch    0/17   train_loss = 0.086\n",
      "Epoch 238 Batch    0/17   train_loss = 0.085\n",
      "Epoch 239 Batch    0/17   train_loss = 0.084\n",
      "Epoch 240 Batch    0/17   train_loss = 0.083\n",
      "Epoch 241 Batch    0/17   train_loss = 0.083\n",
      "Epoch 242 Batch    0/17   train_loss = 0.082\n",
      "Epoch 243 Batch    0/17   train_loss = 0.081\n",
      "Epoch 244 Batch    0/17   train_loss = 0.081\n",
      "Epoch 245 Batch    0/17   train_loss = 0.080\n",
      "Epoch 246 Batch    0/17   train_loss = 0.079\n",
      "Epoch 247 Batch    0/17   train_loss = 0.079\n",
      "Epoch 248 Batch    0/17   train_loss = 0.078\n",
      "Epoch 249 Batch    0/17   train_loss = 0.077\n",
      "Epoch 250 Batch    0/17   train_loss = 0.077\n",
      "Epoch 251 Batch    0/17   train_loss = 0.077\n",
      "Epoch 252 Batch    0/17   train_loss = 0.076\n",
      "Epoch 253 Batch    0/17   train_loss = 0.075\n",
      "Epoch 254 Batch    0/17   train_loss = 0.075\n",
      "Epoch 255 Batch    0/17   train_loss = 0.075\n",
      "Epoch 256 Batch    0/17   train_loss = 0.074\n",
      "Epoch 257 Batch    0/17   train_loss = 0.074\n",
      "Epoch 258 Batch    0/17   train_loss = 0.073\n",
      "Epoch 259 Batch    0/17   train_loss = 0.073\n",
      "Epoch 260 Batch    0/17   train_loss = 0.073\n",
      "Epoch 261 Batch    0/17   train_loss = 0.072\n",
      "Epoch 262 Batch    0/17   train_loss = 0.072\n",
      "Epoch 263 Batch    0/17   train_loss = 0.072\n",
      "Epoch 264 Batch    0/17   train_loss = 0.071\n",
      "Epoch 265 Batch    0/17   train_loss = 0.071\n",
      "Epoch 266 Batch    0/17   train_loss = 0.071\n",
      "Epoch 267 Batch    0/17   train_loss = 0.070\n",
      "Epoch 268 Batch    0/17   train_loss = 0.070\n",
      "Epoch 269 Batch    0/17   train_loss = 0.070\n",
      "Epoch 270 Batch    0/17   train_loss = 0.069\n",
      "Epoch 271 Batch    0/17   train_loss = 0.069\n",
      "Epoch 272 Batch    0/17   train_loss = 0.069\n",
      "Epoch 273 Batch    0/17   train_loss = 0.069\n",
      "Epoch 274 Batch    0/17   train_loss = 0.068\n",
      "Epoch 275 Batch    0/17   train_loss = 0.068\n",
      "Epoch 276 Batch    0/17   train_loss = 0.068\n",
      "Epoch 277 Batch    0/17   train_loss = 0.068\n",
      "Epoch 278 Batch    0/17   train_loss = 0.070\n",
      "Epoch 279 Batch    0/17   train_loss = 0.071\n",
      "Epoch 280 Batch    0/17   train_loss = 0.084\n",
      "Epoch 281 Batch    0/17   train_loss = 0.235\n",
      "Epoch 282 Batch    0/17   train_loss = 1.905\n",
      "Epoch 283 Batch    0/17   train_loss = 3.575\n",
      "Epoch 284 Batch    0/17   train_loss = 3.760\n",
      "Epoch 285 Batch    0/17   train_loss = 3.451\n",
      "Epoch 286 Batch    0/17   train_loss = 3.075\n",
      "Epoch 287 Batch    0/17   train_loss = 2.831\n",
      "Epoch 288 Batch    0/17   train_loss = 2.579\n",
      "Epoch 289 Batch    0/17   train_loss = 2.359\n",
      "Epoch 290 Batch    0/17   train_loss = 2.230\n",
      "Epoch 291 Batch    0/17   train_loss = 2.063\n",
      "Epoch 292 Batch    0/17   train_loss = 1.937\n",
      "Epoch 293 Batch    0/17   train_loss = 1.875\n",
      "Epoch 294 Batch    0/17   train_loss = 1.722\n",
      "Epoch 295 Batch    0/17   train_loss = 1.640\n",
      "Epoch 296 Batch    0/17   train_loss = 1.530\n",
      "Epoch 297 Batch    0/17   train_loss = 1.457\n",
      "Epoch 298 Batch    0/17   train_loss = 1.372\n",
      "Epoch 299 Batch    0/17   train_loss = 1.316\n",
      "Model Trained and Saved\n"
     ]
    }
   ],
   "source": [
    "\"\"\"\n",
    "DON'T MODIFY ANYTHING IN THIS CELL\n",
    "\"\"\"\n",
    "batches = get_batches(int_text, batch_size, seq_length)\n",
    "\n",
    "with tf.Session(graph=train_graph) as sess:\n",
    "    sess.run(tf.global_variables_initializer())\n",
    "\n",
    "    for epoch_i in range(num_epochs):\n",
    "        state = sess.run(initial_state, {input_text: batches[0][0]})\n",
    "\n",
    "        for batch_i, (x, y) in enumerate(batches):\n",
    "            feed = {\n",
    "                input_text: x,\n",
    "                targets: y,\n",
    "                initial_state: state,\n",
    "                lr: learning_rate}\n",
    "            train_loss, state, _ = sess.run([cost, final_state, train_op], feed)\n",
    "\n",
    "            # Show every <show_every_n_batches> batches\n",
    "            if (epoch_i * len(batches) + batch_i) % show_every_n_batches == 0:\n",
    "                print('Epoch {:>3} Batch {:>4}/{}   train_loss = {:.3f}'.format(\n",
    "                    epoch_i,\n",
    "                    batch_i,\n",
    "                    len(batches),\n",
    "                    train_loss))\n",
    "\n",
    "    # Save Model\n",
    "    saver = tf.train.Saver()\n",
    "    saver.save(sess, save_dir)\n",
    "    print('Model Trained and Saved')"
   ]
  },
  {
   "cell_type": "markdown",
   "metadata": {},
   "source": [
    "## Save Parameters\n",
    "Save `seq_length` and `save_dir` for generating a new TV script."
   ]
  },
  {
   "cell_type": "code",
   "execution_count": 17,
   "metadata": {
    "collapsed": true
   },
   "outputs": [],
   "source": [
    "\"\"\"\n",
    "DON'T MODIFY ANYTHING IN THIS CELL\n",
    "\"\"\"\n",
    "# Save parameters for checkpoint\n",
    "helper.save_params((seq_length, save_dir))"
   ]
  },
  {
   "cell_type": "markdown",
   "metadata": {},
   "source": [
    "# Checkpoint"
   ]
  },
  {
   "cell_type": "code",
   "execution_count": 18,
   "metadata": {
    "collapsed": true
   },
   "outputs": [],
   "source": [
    "\"\"\"\n",
    "DON'T MODIFY ANYTHING IN THIS CELL\n",
    "\"\"\"\n",
    "import tensorflow as tf\n",
    "import numpy as np\n",
    "import helper\n",
    "import problem_unittests as tests\n",
    "\n",
    "_, vocab_to_int, int_to_vocab, token_dict = helper.load_preprocess()\n",
    "seq_length, load_dir = helper.load_params()"
   ]
  },
  {
   "cell_type": "markdown",
   "metadata": {},
   "source": [
    "## Implement Generate Functions\n",
    "### Get Tensors\n",
    "Get tensors from `loaded_graph` using the function [`get_tensor_by_name()`](https://www.tensorflow.org/api_docs/python/tf/Graph#get_tensor_by_name).  Get the tensors using the following names:\n",
    "- \"input:0\"\n",
    "- \"initial_state:0\"\n",
    "- \"final_state:0\"\n",
    "- \"probs:0\"\n",
    "\n",
    "Return the tensors in the following tuple `(InputTensor, InitialStateTensor, FinalStateTensor, ProbsTensor)` "
   ]
  },
  {
   "cell_type": "code",
   "execution_count": 19,
   "metadata": {},
   "outputs": [
    {
     "name": "stdout",
     "output_type": "stream",
     "text": [
      "Tests Passed\n"
     ]
    }
   ],
   "source": [
    "def get_tensors(loaded_graph):\n",
    "    \"\"\"\n",
    "    Get input, initial state, final state, and probabilities tensor from <loaded_graph>\n",
    "    :param loaded_graph: TensorFlow graph loaded from file\n",
    "    :return: Tuple (InputTensor, InitialStateTensor, FinalStateTensor, ProbsTensor)\n",
    "    \"\"\"\n",
    "    # TODO: Implement Function\n",
    "    InputTensor = loaded_graph.get_tensor_by_name(\"input:0\")\n",
    "    InitialStateTensor = loaded_graph.get_tensor_by_name(\"initial_state:0\") \n",
    "    FinalStateTensor = loaded_graph.get_tensor_by_name(\"final_state:0\") \n",
    "    ProbsTensor = loaded_graph.get_tensor_by_name(\"probs:0\")\n",
    "    return  (InputTensor, InitialStateTensor, FinalStateTensor, ProbsTensor)\n",
    "\n",
    "\n",
    "\"\"\"\n",
    "DON'T MODIFY ANYTHING IN THIS CELL THAT IS BELOW THIS LINE\n",
    "\"\"\"\n",
    "tests.test_get_tensors(get_tensors)"
   ]
  },
  {
   "cell_type": "markdown",
   "metadata": {},
   "source": [
    "### Choose Word\n",
    "Implement the `pick_word()` function to select the next word using `probabilities`."
   ]
  },
  {
   "cell_type": "code",
   "execution_count": 20,
   "metadata": {},
   "outputs": [
    {
     "name": "stdout",
     "output_type": "stream",
     "text": [
      "Tests Passed\n"
     ]
    }
   ],
   "source": [
    "# Here I have a reference on inplementation of \n",
    "# https://github.com/kouohhashi\n",
    "import random\n",
    "def weighted_choice(choices):\n",
    "    total = sum(w for c, w in choices)\n",
    "    r = random.uniform(0, total)\n",
    "    upto = 0\n",
    "    for c, w in choices:\n",
    "        if upto + w >= r:\n",
    "            return c\n",
    "        upto += w\n",
    "    assert False, \"Something wrong with the probability\"\n",
    "    \n",
    "def pick_from_top_5(choices):\n",
    "    top5 = []\n",
    "    for i in range(min(len(choices), 5)):\n",
    "        index = np.argmax(choices)\n",
    "        top5.append((index, choices[index]))\n",
    "        choices.itemset(index, 0) # Avoid picking this index as argmax again\n",
    "    return weighted_choice(top5)\n",
    "# This could be further modified\n",
    "\n",
    "def pick_word(probabilities, int_to_vocab):\n",
    "    \"\"\"\n",
    "    Pick the next word in the generated text\n",
    "    :param probabilities: Probabilites of the next word\n",
    "    :param int_to_vocab: Dictionary of word ids as the keys and words as the values\n",
    "    :return: String of the predicted word\n",
    "    \"\"\"\n",
    "    # TODO: Implement Function\n",
    "    intrinsic_pick = True\n",
    "    if intrinsic_pick:\n",
    "        return np.random.choice(list(int_to_vocab.values()), 1, p=probabilities)[0]\n",
    "    else:\n",
    "        return int_to_vocab[pick_from_top_5(probabilities)]\n",
    "\n",
    "\n",
    "\"\"\"\n",
    "DON'T MODIFY ANYTHING IN THIS CELL THAT IS BELOW THIS LINE\n",
    "\"\"\"\n",
    "tests.test_pick_word(pick_word)"
   ]
  },
  {
   "cell_type": "markdown",
   "metadata": {},
   "source": [
    "## Generate TV Script\n",
    "This will generate the TV script for you.  Set `gen_length` to the length of TV script you want to generate."
   ]
  },
  {
   "cell_type": "code",
   "execution_count": 22,
   "metadata": {},
   "outputs": [
    {
     "name": "stdout",
     "output_type": "stream",
     "text": [
      "homer_simpson: so you die.\n",
      "moe_szyslak: you nuclear workers.\n",
      "moe_szyslak:(raising) oh, i don't wanna do something.\n",
      "moe_szyslak: so, uh, homer, i don't really not any idea?\n",
      "moe_szyslak: you know, moe. you gotta make that mole here in the\". why you go out for this are much out here.\n",
      "homer_simpson: no. we're on the tab?\n",
      "moe_szyslak:(excited gasp) that's too place?\n",
      "barney_gumble:(to lisa, springfield) could no, lenny.\n",
      "homer_simpson: well, you can't take any peanuts?\n",
      "chief_wiggum:(aggravated tap) oh, i was watching a while or me...\n",
      "marge_simpson:(worried) heh? no...\n",
      "moe_szyslak: yeah, well, you got a big girl, i am you... babar on the picture.\n",
      "moe_szyslak: c'mon, i got this\".\n",
      "\n",
      "\n",
      "moe_szyslak:(on phone) this is here to have to keep you.\n",
      "moe_szyslak:(then) yeah.\n",
      "homer_simpson: yeah, i don't like\n"
     ]
    }
   ],
   "source": [
    "gen_length = 200\n",
    "# homer_simpson, moe_szyslak, or Barney_Gumble\n",
    "prime_word = 'homer_simpson'\n",
    "\n",
    "\"\"\"\n",
    "DON'T MODIFY ANYTHING IN THIS CELL THAT IS BELOW THIS LINE\n",
    "\"\"\"\n",
    "loaded_graph = tf.Graph()\n",
    "with tf.Session(graph=loaded_graph) as sess:\n",
    "    # Load saved model\n",
    "    loader = tf.train.import_meta_graph(load_dir + '.meta')\n",
    "    loader.restore(sess, load_dir)\n",
    "\n",
    "    # Get Tensors from loaded model\n",
    "    input_text, initial_state, final_state, probs = get_tensors(loaded_graph)\n",
    "\n",
    "    # Sentences generation setup\n",
    "    gen_sentences = [prime_word + ':']\n",
    "    prev_state = sess.run(initial_state, {input_text: np.array([[1]])})\n",
    "\n",
    "    # Generate sentences\n",
    "    for n in range(gen_length):\n",
    "        # Dynamic Input\n",
    "        dyn_input = [[vocab_to_int[word] for word in gen_sentences[-seq_length:]]]\n",
    "        dyn_seq_length = len(dyn_input[0])\n",
    "\n",
    "        # Get Prediction\n",
    "        probabilities, prev_state = sess.run(\n",
    "            [probs, final_state],\n",
    "            {input_text: dyn_input, initial_state: prev_state})\n",
    "        \n",
    "        pred_word = pick_word(probabilities[dyn_seq_length-1], int_to_vocab)\n",
    "\n",
    "        gen_sentences.append(pred_word)\n",
    "    \n",
    "    # Remove tokens\n",
    "    tv_script = ' '.join(gen_sentences)\n",
    "    for key, token in token_dict.items():\n",
    "        ending = ' ' if key in ['\\n', '(', '\"'] else ''\n",
    "        tv_script = tv_script.replace(' ' + token.lower(), key)\n",
    "    tv_script = tv_script.replace('\\n ', '\\n')\n",
    "    tv_script = tv_script.replace('( ', '(')\n",
    "        \n",
    "    print(tv_script)"
   ]
  },
  {
   "cell_type": "markdown",
   "metadata": {},
   "source": [
    "# The TV Script is Nonsensical\n",
    "It's ok if the TV script doesn't make any sense.  We trained on less than a megabyte of text.  In order to get good results, you'll have to use a smaller vocabulary or get more data.  Luckly there's more data!  As we mentioned in the begging of this project, this is a subset of [another dataset](https://www.kaggle.com/wcukierski/the-simpsons-by-the-data).  We didn't have you train on all the data, because that would take too long.  However, you are free to train your neural network on all the data.  After you complete the project, of course.\n",
    "# Submitting This Project\n",
    "When submitting this project, make sure to run all the cells before saving the notebook. Save the notebook file as \"dlnd_tv_script_generation.ipynb\" and save it as a HTML file under \"File\" -> \"Download as\". Include the \"helper.py\" and \"problem_unittests.py\" files in your submission."
   ]
  }
 ],
 "metadata": {
  "kernelspec": {
   "display_name": "Python 3",
   "language": "python",
   "name": "python3"
  },
  "language_info": {
   "codemirror_mode": {
    "name": "ipython",
    "version": 2
   },
   "file_extension": ".py",
   "mimetype": "text/x-python",
   "name": "python",
   "nbconvert_exporter": "python",
   "pygments_lexer": "ipython2",
   "version": "2.7.13"
  },
  "widgets": {
   "state": {},
   "version": "1.1.2"
  }
 },
 "nbformat": 4,
 "nbformat_minor": 1
}
